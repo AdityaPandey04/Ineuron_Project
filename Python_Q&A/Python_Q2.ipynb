{
  "nbformat": 4,
  "nbformat_minor": 0,
  "metadata": {
    "colab": {
      "provenance": []
    },
    "kernelspec": {
      "name": "python3",
      "display_name": "Python 3"
    },
    "language_info": {
      "name": "python"
    }
  },
  "cells": [
    {
      "cell_type": "markdown",
      "source": [
        "# **Question 2: -**\n",
        "Consider a string to be valid if all characters of the string appear the same number of times. It is also valid if\n",
        "he can remove just one character at the index in the string, and the remaining characters will occur the same\n",
        "number of times. Given a string, determine if it is valid. If so, return YES , otherwise return NO.\n",
        "#### **Note - You have to write at least 2 additional test cases in which your program will run successfully and provide an explanation for the same.**\n",
        "Example input 1 - s = “abc”. \n",
        "This is a valid string because frequencies are { “a”: 1, “b”: 1, “c”: 1 }\n",
        "Example output 1- YES\n",
        "Example input 2 - s “abcc”. This string is not valid as we can remove only 1 occurrence of “c”.\n",
        "That leaves\n",
        "character frequencies of { “a”: 1, “b”: 1 , “c”: 2 }\n",
        "Example output 2 - NO\n"
      ],
      "metadata": {
        "id": "gcTe0-vW_czZ"
      }
    },
    {
      "cell_type": "code",
      "source": [
        "# Defining a function for validating the strings\n",
        "def validstring(string):\n",
        "\n",
        "  # Initilizing dictionary to store value\n",
        "    count={}\n",
        "\n",
        "    # Now iterating through each element of string and counting them then storing them in dictionary above\n",
        "    for letter in string:\n",
        "\n",
        "      # Checking if elemtnt is in the count dict or not in not then assingning 1 to it as it is presnt in the string\n",
        "        if letter not in count:\n",
        "            count[letter] = 1\n",
        "        \n",
        "        # If present in count dict then counting its reaccurence and assigning value to it\n",
        "        else:\n",
        "            count[letter] += 1\n",
        "\n",
        "    # Now from count picking up the values and making a list of it in sorted order\n",
        "    num = [num for num in sorted(count.values())]\n",
        "\n",
        "    # Initializing the 1st elements in temp variable as the first value is lowest as it was sorted above\n",
        "    temp = num[0]+1\n",
        "\n",
        "    # Checking if all the elements in list have same value or not\n",
        "    if (num[1:] == num[:-1]) == True:\n",
        "\n",
        "      # If have same value \n",
        "      return 'YES'\n",
        "\n",
        "    # If have +1 value then the lowest number then subtracting it and making it same  \n",
        "    elif temp in num:\n",
        "\n",
        "        # finding the index of bigger value\n",
        "        idx = num.index(temp)\n",
        "\n",
        "        # Now substracting it with one and seeing if all elements have same value\n",
        "        num[idx] = num[idx] - 1\n",
        "\n",
        "        # After subtracting checking agian if value are equal or not\n",
        "        if (num[1:] == num[:-1]) == True:\n",
        "\n",
        "          # if same values then \n",
        "          return 'YES'\n",
        "\n",
        "        # These will return False if there is any error\n",
        "        else:\n",
        "          return 'NO '\n",
        "    else:\n",
        "        return 'NO'\n",
        "\n",
        "\n",
        "# now we are calling the same function and giving it a string to work with\n",
        "case1 = validstring('aabbbcccddd')\n",
        "case2 = validstring('aabbddd')\n",
        "\n",
        "case2"
      ],
      "metadata": {
        "colab": {
          "base_uri": "https://localhost:8080/",
          "height": 36
        },
        "id": "ja5G348Rg19I",
        "outputId": "13d43df4-42f5-4102-8bcf-3a7e84c4b520"
      },
      "execution_count": 3,
      "outputs": [
        {
          "output_type": "execute_result",
          "data": {
            "text/plain": [
              "'YES'"
            ],
            "application/vnd.google.colaboratory.intrinsic+json": {
              "type": "string"
            }
          },
          "metadata": {},
          "execution_count": 3
        }
      ]
    }
  ]
}